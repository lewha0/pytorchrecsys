{
 "cells": [
  {
   "cell_type": "markdown",
   "id": "a443accf",
   "metadata": {},
   "source": [
    "# Recommender system in PyTorch"
   ]
  },
  {
   "cell_type": "markdown",
   "id": "62719b40",
   "metadata": {},
   "source": [
    "PyTorch is basically a deep learning framework. This means that we can solve a huge amount of real-world problems using pyTorch."
   ]
  },
  {
   "cell_type": "markdown",
   "id": "ccf2fc59",
   "metadata": {},
   "source": [
    "Even before the re-rise of deep learning approaches, the field of machine learning and data analysis were beloved research topics of this field. These approaches were not just studied in an academy. There were a lot of applications, and among them, recommender system is a representative one that made a great success in real-world."
   ]
  },
  {
   "cell_type": "code",
   "execution_count": null,
   "id": "9ebe4ec3",
   "metadata": {},
   "outputs": [],
   "source": []
  },
  {
   "cell_type": "code",
   "execution_count": null,
   "id": "1eb459e2",
   "metadata": {},
   "outputs": [],
   "source": []
  }
 ],
 "metadata": {
  "kernelspec": {
   "display_name": "Python 3 (ipykernel)",
   "language": "python",
   "name": "python3"
  },
  "language_info": {
   "codemirror_mode": {
    "name": "ipython",
    "version": 3
   },
   "file_extension": ".py",
   "mimetype": "text/x-python",
   "name": "python",
   "nbconvert_exporter": "python",
   "pygments_lexer": "ipython3",
   "version": "3.8.10"
  }
 },
 "nbformat": 4,
 "nbformat_minor": 5
}
